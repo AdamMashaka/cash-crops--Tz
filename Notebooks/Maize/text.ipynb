{
 "cells": [
  {
   "cell_type": "code",
   "execution_count": 1,
   "metadata": {},
   "outputs": [],
   "source": [
    "import pandas as pd\n",
    "import numpy as np\n",
    "import warnings\n",
    "import pickle as pk\n",
    "import json\n",
    "import requests\n",
    "warnings.filterwarnings('ignore')"
   ]
  },
  {
   "cell_type": "code",
   "execution_count": 2,
   "metadata": {},
   "outputs": [],
   "source": [
    "Maize_data = pd.read_csv('../../Data/maize.csv')"
   ]
  },
  {
   "cell_type": "code",
   "execution_count": 3,
   "metadata": {},
   "outputs": [],
   "source": [
    "selected_crop, selected_market, selected_month, selected_year = 'Maize', 1, 4, 2023"
   ]
  },
  {
   "cell_type": "code",
   "execution_count": 4,
   "metadata": {},
   "outputs": [],
   "source": [
    "column_order = [\n",
    "    'market',\n",
    "    'year',\n",
    "    'month',\n",
    "    'years_since_start',\n",
    "    'past_1_months_mean_price',\n",
    "    'past_2_months_mean_price',\n",
    "    'past_3_months_mean_price',\n",
    "    'past_4_months_mean_price',\n",
    "    'past_5_months_mean_price',\n",
    "    'past_6_months_mean_price',\n",
    "    'past_7_months_mean_price',\n",
    "    'past_8_months_mean_price',\n",
    "    'past_9_months_mean_price',\n",
    "    'past_10_months_mean_price',\n",
    "    'past_11_months_mean_price',\n",
    "    'past_1_years_mean_price',\n",
    "    'past_2_years_mean_price',\n",
    "    'past_3_years_mean_price',\n",
    "    'past_4_years_mean_price',\n",
    "    'past_5_years_mean_price',\n",
    "    'past_6_years_mean_price',\n",
    "    'past_7_years_mean_price',\n",
    "    'past_8_years_mean_price',\n",
    "    'past_9_years_mean_price',\n",
    "    'past_10_years_mean_price',\n",
    "    'past_11_years_mean_price',\n",
    "    'past_12_years_mean_price',\n",
    "    'past_13_years_mean_price',\n",
    "    'past_14_years_mean_price',\n",
    "    'past_15_years_mean_price',\n",
    "    'past_16_years_mean_price',\n",
    "    'past_17_years_mean_price',\n",
    "    'yearly_average_price',\n",
    "    'monthly_average_price',\n",
    "    'market_average_price',\n",
    "    'commodity_yearly_average_price',\n",
    "    'commodity_monthly_average_price'\n",
    "]"
   ]
  },
  {
   "cell_type": "code",
   "execution_count": 5,
   "metadata": {},
   "outputs": [],
   "source": [
    "inputDict = {}"
   ]
  },
  {
   "cell_type": "code",
   "execution_count": 6,
   "metadata": {},
   "outputs": [],
   "source": [
    "filtered_data = Maize_data[(Maize_data['market'] == 3) & (Maize_data['year'] == 2022)]"
   ]
  },
  {
   "cell_type": "code",
   "execution_count": 7,
   "metadata": {},
   "outputs": [],
   "source": [
    "def iii(inputDict):\n",
    "    inputDict['market'] = [selected_market]\n",
    "\n",
    "    inputDict['year'] = [selected_year]\n",
    "\n",
    "    inputDict['month'] = [selected_month]\n",
    "\n",
    "    inputDict['years_since_start'] = int(selected_year) - 2006\n",
    "\n",
    "    if selected_crop == 'Maize':\n",
    "        most_recent_year = Maize_data['year'].max() - 1\n",
    "        filtered_data = Maize_data[(Maize_data['market'] == selected_market) &\n",
    "                                    (Maize_data['year'] == most_recent_year)]\n",
    "        \n",
    "        inputDict['yearly_average_price'] = filtered_data['yearly_average_price'].mode()\n",
    "\n",
    "        if int(selected_month) in filtered_data['month'].unique():\n",
    "            inputDict['monthly_average_price'] = filtered_data.loc[filtered_data['month'] == int(selected_month)]['market_average_price'].reset_index(drop=True)\n",
    "        else:\n",
    "            inputDict['monthly_average_price'] = filtered_data['monthly_average_price'].mean()\n",
    "        \n",
    "        inputDict['market_average_price'] = filtered_data['market_average_price'].mode()\n",
    "\n",
    "        inputDict['commodity_yearly_average_price'] = filtered_data['commodity_yearly_average_price'].mode()\n",
    "\n",
    "        if int(selected_month) in filtered_data['month'].unique():\n",
    "            inputDict['commodity_monthly_average_price'] = filtered_data.loc[filtered_data['month'] == int(selected_month)]['commodity_monthly_average_price'].reset_index(drop=True)\n",
    "        else:\n",
    "            inputDict['commodity_monthly_average_price'] = filtered_data['commodity_monthly_average_price'].mean()\n",
    "        \n",
    "        filtered_data = filtered_data.drop(['market', 'year', 'month', 'years_since_start', 'yearly_average_price', 'monthly_average_price', 'market_average_price', 'commodity_yearly_average_price', 'commodity_monthly_average_price'], axis=1)\n",
    "        \n",
    "        for col in filtered_data.columns:\n",
    "            inputDict[col] = filtered_data[col].mean()\n",
    "\n",
    "    return pd.DataFrame(inputDict, columns=column_order)"
   ]
  },
  {
   "cell_type": "code",
   "execution_count": 82,
   "metadata": {},
   "outputs": [],
   "source": [
    "# maize_model = pk.load(open('../../Models/Maize/Maize_model_XGBoost Regressor.pkl', 'rb'))\n",
    "# beans_model = pk.load(open('../../Models/Beans/Beans_model_XGBoost Regressor.pkl', 'rb'))\n",
    "# rice_model = pk.load(open('../../Models/Rice/Rice_model_XGBoost Regressor.pkl', 'rb'))"
   ]
  },
  {
   "cell_type": "code",
   "execution_count": 18,
   "metadata": {},
   "outputs": [],
   "source": [
    "dataFrame = iii(inputDict=inputDict)"
   ]
  },
  {
   "cell_type": "code",
   "execution_count": 19,
   "metadata": {},
   "outputs": [
    {
     "data": {
      "text/html": [
       "<div>\n",
       "<style scoped>\n",
       "    .dataframe tbody tr th:only-of-type {\n",
       "        vertical-align: middle;\n",
       "    }\n",
       "\n",
       "    .dataframe tbody tr th {\n",
       "        vertical-align: top;\n",
       "    }\n",
       "\n",
       "    .dataframe thead th {\n",
       "        text-align: right;\n",
       "    }\n",
       "</style>\n",
       "<table border=\"1\" class=\"dataframe\">\n",
       "  <thead>\n",
       "    <tr style=\"text-align: right;\">\n",
       "      <th></th>\n",
       "      <th>market</th>\n",
       "      <th>year</th>\n",
       "      <th>month</th>\n",
       "      <th>years_since_start</th>\n",
       "      <th>past_1_months_mean_price</th>\n",
       "      <th>past_2_months_mean_price</th>\n",
       "      <th>past_3_months_mean_price</th>\n",
       "      <th>past_4_months_mean_price</th>\n",
       "      <th>past_5_months_mean_price</th>\n",
       "      <th>past_6_months_mean_price</th>\n",
       "      <th>...</th>\n",
       "      <th>past_13_years_mean_price</th>\n",
       "      <th>past_14_years_mean_price</th>\n",
       "      <th>past_15_years_mean_price</th>\n",
       "      <th>past_16_years_mean_price</th>\n",
       "      <th>past_17_years_mean_price</th>\n",
       "      <th>yearly_average_price</th>\n",
       "      <th>monthly_average_price</th>\n",
       "      <th>market_average_price</th>\n",
       "      <th>commodity_yearly_average_price</th>\n",
       "      <th>commodity_monthly_average_price</th>\n",
       "    </tr>\n",
       "  </thead>\n",
       "  <tbody>\n",
       "    <tr>\n",
       "      <th>0</th>\n",
       "      <td>1</td>\n",
       "      <td>2023</td>\n",
       "      <td>4</td>\n",
       "      <td>17</td>\n",
       "      <td>4.905033</td>\n",
       "      <td>4.894668</td>\n",
       "      <td>4.883588</td>\n",
       "      <td>4.871458</td>\n",
       "      <td>4.859651</td>\n",
       "      <td>4.847757</td>\n",
       "      <td>...</td>\n",
       "      <td>4.702695</td>\n",
       "      <td>4.290797</td>\n",
       "      <td>0.0</td>\n",
       "      <td>0.0</td>\n",
       "      <td>0.0</td>\n",
       "      <td>83531.258333</td>\n",
       "      <td>48774.35272</td>\n",
       "      <td>48774.35272</td>\n",
       "      <td>81561.454752</td>\n",
       "      <td>52640.260622</td>\n",
       "    </tr>\n",
       "  </tbody>\n",
       "</table>\n",
       "<p>1 rows × 37 columns</p>\n",
       "</div>"
      ],
      "text/plain": [
       "   market  year  month  years_since_start  past_1_months_mean_price  \\\n",
       "0       1  2023      4                 17                  4.905033   \n",
       "\n",
       "   past_2_months_mean_price  past_3_months_mean_price  \\\n",
       "0                  4.894668                  4.883588   \n",
       "\n",
       "   past_4_months_mean_price  past_5_months_mean_price  \\\n",
       "0                  4.871458                  4.859651   \n",
       "\n",
       "   past_6_months_mean_price  ...  past_13_years_mean_price  \\\n",
       "0                  4.847757  ...                  4.702695   \n",
       "\n",
       "   past_14_years_mean_price  past_15_years_mean_price  \\\n",
       "0                  4.290797                       0.0   \n",
       "\n",
       "   past_16_years_mean_price  past_17_years_mean_price  yearly_average_price  \\\n",
       "0                       0.0                       0.0          83531.258333   \n",
       "\n",
       "   monthly_average_price  market_average_price  \\\n",
       "0            48774.35272           48774.35272   \n",
       "\n",
       "   commodity_yearly_average_price  commodity_monthly_average_price  \n",
       "0                    81561.454752                     52640.260622  \n",
       "\n",
       "[1 rows x 37 columns]"
      ]
     },
     "execution_count": 19,
     "metadata": {},
     "output_type": "execute_result"
    }
   ],
   "source": [
    "dataFrame"
   ]
  },
  {
   "cell_type": "code",
   "execution_count": 50,
   "metadata": {},
   "outputs": [],
   "source": [
    "json_data = dataFrame.to_json(orient='records')\n",
    "json_data = json.loads(json_data)"
   ]
  },
  {
   "cell_type": "code",
   "execution_count": 52,
   "metadata": {},
   "outputs": [
    {
     "data": {
      "text/plain": [
       "{'market': 1,\n",
       " 'year': 2023,\n",
       " 'month': 4,\n",
       " 'years_since_start': 17,\n",
       " 'past_1_months_mean_price': 4.9050332893,\n",
       " 'past_2_months_mean_price': 4.8946681881,\n",
       " 'past_3_months_mean_price': 4.8835877736,\n",
       " 'past_4_months_mean_price': 4.8714582167,\n",
       " 'past_5_months_mean_price': 4.8596505461,\n",
       " 'past_6_months_mean_price': 4.8477568561,\n",
       " 'past_7_months_mean_price': 4.8358840055,\n",
       " 'past_8_months_mean_price': 4.8241013273,\n",
       " 'past_9_months_mean_price': 4.8128297961,\n",
       " 'past_10_months_mean_price': 4.8033218147,\n",
       " 'past_11_months_mean_price': 4.7950479985,\n",
       " 'past_1_years_mean_price': 4.7878706447,\n",
       " 'past_2_years_mean_price': 4.7809574284,\n",
       " 'past_3_years_mean_price': 4.8186089639,\n",
       " 'past_4_years_mean_price': 4.8015089519,\n",
       " 'past_5_years_mean_price': 4.8087634366,\n",
       " 'past_6_years_mean_price': 4.8006566027,\n",
       " 'past_7_years_mean_price': 4.7804989248,\n",
       " 'past_8_years_mean_price': 4.7763633424,\n",
       " 'past_9_years_mean_price': 4.7695885186,\n",
       " 'past_10_years_mean_price': 4.7517748617,\n",
       " 'past_11_years_mean_price': 4.7363611209,\n",
       " 'past_12_years_mean_price': 4.7229986429,\n",
       " 'past_13_years_mean_price': 4.7026952296,\n",
       " 'past_14_years_mean_price': 4.2907974678,\n",
       " 'past_15_years_mean_price': 0.0,\n",
       " 'past_16_years_mean_price': 0.0,\n",
       " 'past_17_years_mean_price': 0.0,\n",
       " 'yearly_average_price': 83531.2583333333,\n",
       " 'monthly_average_price': 48774.3527202073,\n",
       " 'market_average_price': 48774.3527202073,\n",
       " 'commodity_yearly_average_price': 81561.4547520661,\n",
       " 'commodity_monthly_average_price': 52640.2606216216}"
      ]
     },
     "execution_count": 52,
     "metadata": {},
     "output_type": "execute_result"
    }
   ],
   "source": [
    "json_data[0]"
   ]
  },
  {
   "cell_type": "code",
   "execution_count": 47,
   "metadata": {},
   "outputs": [],
   "source": [
    "res = requests.post('http://127.0.0.1:8000/predict-maize', json=json.loads(json_data)[0], headers={'Content-Type': 'application/json'})"
   ]
  },
  {
   "cell_type": "code",
   "execution_count": 48,
   "metadata": {},
   "outputs": [
    {
     "data": {
      "text/plain": [
       "84534.015625"
      ]
     },
     "execution_count": 48,
     "metadata": {},
     "output_type": "execute_result"
    }
   ],
   "source": [
    "res.json()"
   ]
  }
 ],
 "metadata": {
  "kernelspec": {
   "display_name": "base",
   "language": "python",
   "name": "python3"
  },
  "language_info": {
   "codemirror_mode": {
    "name": "ipython",
    "version": 3
   },
   "file_extension": ".py",
   "mimetype": "text/x-python",
   "name": "python",
   "nbconvert_exporter": "python",
   "pygments_lexer": "ipython3",
   "version": "3.11.3"
  },
  "orig_nbformat": 4
 },
 "nbformat": 4,
 "nbformat_minor": 2
}
