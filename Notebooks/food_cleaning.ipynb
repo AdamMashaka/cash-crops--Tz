{
 "cells": [
  {
   "cell_type": "code",
   "execution_count": 2,
   "metadata": {},
   "outputs": [],
   "source": [
    "import pandas as pd"
   ]
  },
  {
   "cell_type": "code",
   "execution_count": 3,
   "metadata": {},
   "outputs": [],
   "source": [
    "data = pd.read_csv('food.csv')"
   ]
  },
  {
   "cell_type": "code",
   "execution_count": 4,
   "metadata": {},
   "outputs": [
    {
     "data": {
      "text/plain": [
       "(71514, 14)"
      ]
     },
     "execution_count": 4,
     "metadata": {},
     "output_type": "execute_result"
    }
   ],
   "source": [
    "data.shape"
   ]
  },
  {
   "cell_type": "code",
   "execution_count": 5,
   "metadata": {},
   "outputs": [
    {
     "name": "stdout",
     "output_type": "stream",
     "text": [
      "<class 'pandas.core.frame.DataFrame'>\n",
      "RangeIndex: 71514 entries, 0 to 71513\n",
      "Data columns (total 14 columns):\n",
      " #   Column     Non-Null Count  Dtype  \n",
      "---  ------     --------------  -----  \n",
      " 0   date       71514 non-null  object \n",
      " 1   admin1     71514 non-null  object \n",
      " 2   admin2     71514 non-null  object \n",
      " 3   market     71514 non-null  object \n",
      " 4   latitude   71514 non-null  float64\n",
      " 5   longitude  71514 non-null  float64\n",
      " 6   category   71514 non-null  object \n",
      " 7   commodity  71514 non-null  object \n",
      " 8   unit       71514 non-null  object \n",
      " 9   priceflag  71514 non-null  object \n",
      " 10  pricetype  71514 non-null  object \n",
      " 11  currency   71514 non-null  object \n",
      " 12  price      71514 non-null  float64\n",
      " 13  usdprice   71514 non-null  float64\n",
      "dtypes: float64(4), object(10)\n",
      "memory usage: 7.6+ MB\n"
     ]
    }
   ],
   "source": [
    "data.info()"
   ]
  },
  {
   "cell_type": "code",
   "execution_count": 6,
   "metadata": {},
   "outputs": [],
   "source": [
    "data2 = data[(data['price'] != 0) & ((data['commodity'] == 'Maize') | (data['commodity'] == 'Beans') | (data['commodity'] == 'Rice'))]"
   ]
  },
  {
   "cell_type": "code",
   "execution_count": 7,
   "metadata": {},
   "outputs": [
    {
     "data": {
      "text/plain": [
       "(13165, 14)"
      ]
     },
     "execution_count": 7,
     "metadata": {},
     "output_type": "execute_result"
    }
   ],
   "source": [
    "data2.shape"
   ]
  },
  {
   "cell_type": "code",
   "execution_count": 8,
   "metadata": {},
   "outputs": [
    {
     "data": {
      "text/plain": [
       "commodity\n",
       "Rice     6066\n",
       "Maize    3999\n",
       "Beans    3100\n",
       "Name: count, dtype: int64"
      ]
     },
     "execution_count": 8,
     "metadata": {},
     "output_type": "execute_result"
    }
   ],
   "source": [
    "data2['commodity'].value_counts()"
   ]
  },
  {
   "cell_type": "code",
   "execution_count": 9,
   "metadata": {},
   "outputs": [],
   "source": [
    "data3 = data2[(data2['market'] == 'Kibaigwa') | (data2['market'] == 'Mpanda') | (data2['market'] == 'Musoma') | (data2['market'] == 'Babati') | (data2['admin1'] == 'Morogoro') | (data2['market'] == 'Mtwara DC') | (data2['admin1'] == 'Tabora') | (data2['market'] == 'Tanga / Mgandini') | (data2['market'] == 'Bukoba') | (data2['market'] == 'Dodoma (Majengo)') | (data2['admin2'] == 'Arusha Urban') | (data2['admin2'] == 'Kinondoni') | (data2['admin2'] == 'Ilala')]"
   ]
  },
  {
   "cell_type": "code",
   "execution_count": 10,
   "metadata": {},
   "outputs": [
    {
     "data": {
      "text/plain": [
       "(6060, 14)"
      ]
     },
     "execution_count": 10,
     "metadata": {},
     "output_type": "execute_result"
    }
   ],
   "source": [
    "data3.shape"
   ]
  },
  {
   "cell_type": "code",
   "execution_count": 11,
   "metadata": {},
   "outputs": [],
   "source": [
    "data4 = data3[(data3['unit'] == '100 KG')]"
   ]
  },
  {
   "cell_type": "code",
   "execution_count": 12,
   "metadata": {},
   "outputs": [
    {
     "data": {
      "text/plain": [
       "(5871, 14)"
      ]
     },
     "execution_count": 12,
     "metadata": {},
     "output_type": "execute_result"
    }
   ],
   "source": [
    "data4.shape"
   ]
  },
  {
   "cell_type": "code",
   "execution_count": 13,
   "metadata": {},
   "outputs": [
    {
     "data": {
      "text/plain": [
       "market\n",
       "Arusha (urban)         606\n",
       "Dodoma (Majengo)       579\n",
       "Mtwara DC              578\n",
       "Tabora                 568\n",
       "Babati                 562\n",
       "Musoma                 548\n",
       "Bukoba                 545\n",
       "Morogoro               533\n",
       "Tanga / Mgandini       498\n",
       "Dar Es Salaam          487\n",
       "Mpanda                 120\n",
       "Kinondoni (Tandale)    103\n",
       "Ilala (Buguruni)        83\n",
       "Kibaigwa                61\n",
       "Name: count, dtype: int64"
      ]
     },
     "execution_count": 13,
     "metadata": {},
     "output_type": "execute_result"
    }
   ],
   "source": [
    "data4['market'].value_counts()"
   ]
  },
  {
   "cell_type": "code",
   "execution_count": 14,
   "metadata": {},
   "outputs": [],
   "source": [
    "def replace_market(row):\n",
    "    if row['admin2'] == 'Ilala':\n",
    "        return 'Dar es Salaam - Ilala'\n",
    "    else:\n",
    "        return row['market']\n",
    "\n",
    "data4.loc[:, 'market'] = data4.apply(replace_market, axis=1)"
   ]
  },
  {
   "cell_type": "code",
   "execution_count": 15,
   "metadata": {},
   "outputs": [],
   "source": [
    "def replace_market(row):\n",
    "    if row['admin2'] == 'Kinondoni':\n",
    "        return 'Dar es Salaam - Kinondoni'\n",
    "    else:\n",
    "        return row['market']\n",
    "\n",
    "data4.loc[:, 'market'] = data4.apply(replace_market, axis=1)"
   ]
  },
  {
   "cell_type": "code",
   "execution_count": 16,
   "metadata": {},
   "outputs": [],
   "source": [
    "def replace_market(row):\n",
    "    if row['market'] == 'Kibaigwa':\n",
    "        return 'Dodoma (Kibaigwa)'\n",
    "    else:\n",
    "        return row['market']\n",
    "\n",
    "data4.loc[:, 'market'] = data4.apply(replace_market, axis=1)"
   ]
  },
  {
   "cell_type": "code",
   "execution_count": 35,
   "metadata": {},
   "outputs": [
    {
     "data": {
      "text/html": [
       "<div>\n",
       "<style scoped>\n",
       "    .dataframe tbody tr th:only-of-type {\n",
       "        vertical-align: middle;\n",
       "    }\n",
       "\n",
       "    .dataframe tbody tr th {\n",
       "        vertical-align: top;\n",
       "    }\n",
       "\n",
       "    .dataframe thead th {\n",
       "        text-align: right;\n",
       "    }\n",
       "</style>\n",
       "<table border=\"1\" class=\"dataframe\">\n",
       "  <thead>\n",
       "    <tr style=\"text-align: right;\">\n",
       "      <th></th>\n",
       "      <th>date</th>\n",
       "      <th>admin1</th>\n",
       "      <th>admin2</th>\n",
       "      <th>market</th>\n",
       "      <th>latitude</th>\n",
       "      <th>longitude</th>\n",
       "      <th>category</th>\n",
       "      <th>commodity</th>\n",
       "      <th>unit</th>\n",
       "      <th>priceflag</th>\n",
       "      <th>pricetype</th>\n",
       "      <th>currency</th>\n",
       "      <th>price</th>\n",
       "      <th>usdprice</th>\n",
       "      <th>year</th>\n",
       "    </tr>\n",
       "  </thead>\n",
       "  <tbody>\n",
       "    <tr>\n",
       "      <th>0</th>\n",
       "      <td>2006-01-15</td>\n",
       "      <td>Arusha</td>\n",
       "      <td>Arusha Urban</td>\n",
       "      <td>Arusha (urban)</td>\n",
       "      <td>-3.366667</td>\n",
       "      <td>36.683333</td>\n",
       "      <td>cereals and tubers</td>\n",
       "      <td>Maize</td>\n",
       "      <td>100 KG</td>\n",
       "      <td>actual</td>\n",
       "      <td>Wholesale</td>\n",
       "      <td>TZS</td>\n",
       "      <td>38464.29</td>\n",
       "      <td>32.7411</td>\n",
       "      <td>2006</td>\n",
       "    </tr>\n",
       "    <tr>\n",
       "      <th>1</th>\n",
       "      <td>2006-01-15</td>\n",
       "      <td>Arusha</td>\n",
       "      <td>Arusha Urban</td>\n",
       "      <td>Arusha (urban)</td>\n",
       "      <td>-3.366667</td>\n",
       "      <td>36.683333</td>\n",
       "      <td>cereals and tubers</td>\n",
       "      <td>Rice</td>\n",
       "      <td>100 KG</td>\n",
       "      <td>actual</td>\n",
       "      <td>Wholesale</td>\n",
       "      <td>TZS</td>\n",
       "      <td>63227.27</td>\n",
       "      <td>53.8196</td>\n",
       "      <td>2006</td>\n",
       "    </tr>\n",
       "    <tr>\n",
       "      <th>2</th>\n",
       "      <td>2006-01-15</td>\n",
       "      <td>Arusha</td>\n",
       "      <td>Arusha Urban</td>\n",
       "      <td>Arusha (urban)</td>\n",
       "      <td>-3.366667</td>\n",
       "      <td>36.683333</td>\n",
       "      <td>pulses and nuts</td>\n",
       "      <td>Beans</td>\n",
       "      <td>100 KG</td>\n",
       "      <td>actual</td>\n",
       "      <td>Wholesale</td>\n",
       "      <td>TZS</td>\n",
       "      <td>80714.29</td>\n",
       "      <td>68.7047</td>\n",
       "      <td>2006</td>\n",
       "    </tr>\n",
       "    <tr>\n",
       "      <th>3</th>\n",
       "      <td>2006-02-15</td>\n",
       "      <td>Arusha</td>\n",
       "      <td>Arusha Urban</td>\n",
       "      <td>Arusha (urban)</td>\n",
       "      <td>-3.366667</td>\n",
       "      <td>36.683333</td>\n",
       "      <td>cereals and tubers</td>\n",
       "      <td>Maize</td>\n",
       "      <td>100 KG</td>\n",
       "      <td>actual</td>\n",
       "      <td>Wholesale</td>\n",
       "      <td>TZS</td>\n",
       "      <td>34833.33</td>\n",
       "      <td>29.5699</td>\n",
       "      <td>2006</td>\n",
       "    </tr>\n",
       "    <tr>\n",
       "      <th>4</th>\n",
       "      <td>2006-02-15</td>\n",
       "      <td>Arusha</td>\n",
       "      <td>Arusha Urban</td>\n",
       "      <td>Arusha (urban)</td>\n",
       "      <td>-3.366667</td>\n",
       "      <td>36.683333</td>\n",
       "      <td>cereals and tubers</td>\n",
       "      <td>Rice</td>\n",
       "      <td>100 KG</td>\n",
       "      <td>actual</td>\n",
       "      <td>Wholesale</td>\n",
       "      <td>TZS</td>\n",
       "      <td>72727.27</td>\n",
       "      <td>61.7379</td>\n",
       "      <td>2006</td>\n",
       "    </tr>\n",
       "  </tbody>\n",
       "</table>\n",
       "</div>"
      ],
      "text/plain": [
       "        date  admin1        admin2          market  latitude  longitude  \\\n",
       "0 2006-01-15  Arusha  Arusha Urban  Arusha (urban) -3.366667  36.683333   \n",
       "1 2006-01-15  Arusha  Arusha Urban  Arusha (urban) -3.366667  36.683333   \n",
       "2 2006-01-15  Arusha  Arusha Urban  Arusha (urban) -3.366667  36.683333   \n",
       "3 2006-02-15  Arusha  Arusha Urban  Arusha (urban) -3.366667  36.683333   \n",
       "4 2006-02-15  Arusha  Arusha Urban  Arusha (urban) -3.366667  36.683333   \n",
       "\n",
       "             category commodity    unit priceflag  pricetype currency  \\\n",
       "0  cereals and tubers     Maize  100 KG    actual  Wholesale      TZS   \n",
       "1  cereals and tubers      Rice  100 KG    actual  Wholesale      TZS   \n",
       "2     pulses and nuts     Beans  100 KG    actual  Wholesale      TZS   \n",
       "3  cereals and tubers     Maize  100 KG    actual  Wholesale      TZS   \n",
       "4  cereals and tubers      Rice  100 KG    actual  Wholesale      TZS   \n",
       "\n",
       "      price  usdprice  year  \n",
       "0  38464.29   32.7411  2006  \n",
       "1  63227.27   53.8196  2006  \n",
       "2  80714.29   68.7047  2006  \n",
       "3  34833.33   29.5699  2006  \n",
       "4  72727.27   61.7379  2006  "
      ]
     },
     "execution_count": 35,
     "metadata": {},
     "output_type": "execute_result"
    }
   ],
   "source": [
    "data4.head()"
   ]
  },
  {
   "cell_type": "code",
   "execution_count": 34,
   "metadata": {},
   "outputs": [
    {
     "name": "stderr",
     "output_type": "stream",
     "text": [
      "C:\\Users\\msbdp\\AppData\\Local\\Temp\\ipykernel_14388\\2807003173.py:1: SettingWithCopyWarning: \n",
      "A value is trying to be set on a copy of a slice from a DataFrame.\n",
      "Try using .loc[row_indexer,col_indexer] = value instead\n",
      "\n",
      "See the caveats in the documentation: https://pandas.pydata.org/pandas-docs/stable/user_guide/indexing.html#returning-a-view-versus-a-copy\n",
      "  data4['date'] = pd.to_datetime(data4['date'], errors='ignore', dayfirst=True, format='%d/%m/%Y')\n"
     ]
    }
   ],
   "source": [
    "data4['date'] = pd.to_datetime(data4['date'], errors='ignore', dayfirst=True, format='%d/%m/%Y')"
   ]
  },
  {
   "cell_type": "code",
   "execution_count": 26,
   "metadata": {},
   "outputs": [
    {
     "name": "stdout",
     "output_type": "stream",
     "text": [
      "<class 'pandas.core.frame.DataFrame'>\n",
      "Index: 5871 entries, 0 to 71143\n",
      "Data columns (total 14 columns):\n",
      " #   Column     Non-Null Count  Dtype         \n",
      "---  ------     --------------  -----         \n",
      " 0   date       5871 non-null   datetime64[ns]\n",
      " 1   admin1     5871 non-null   object        \n",
      " 2   admin2     5871 non-null   object        \n",
      " 3   market     5871 non-null   object        \n",
      " 4   latitude   5871 non-null   float64       \n",
      " 5   longitude  5871 non-null   float64       \n",
      " 6   category   5871 non-null   object        \n",
      " 7   commodity  5871 non-null   object        \n",
      " 8   unit       5871 non-null   object        \n",
      " 9   priceflag  5871 non-null   object        \n",
      " 10  pricetype  5871 non-null   object        \n",
      " 11  currency   5871 non-null   object        \n",
      " 12  price      5871 non-null   float64       \n",
      " 13  usdprice   5871 non-null   float64       \n",
      "dtypes: datetime64[ns](1), float64(4), object(9)\n",
      "memory usage: 688.0+ KB\n"
     ]
    }
   ],
   "source": [
    "data4.info()"
   ]
  },
  {
   "cell_type": "code",
   "execution_count": 27,
   "metadata": {},
   "outputs": [],
   "source": [
    "data4.to_csv('needed_food_data.csv', index=False)"
   ]
  },
  {
   "cell_type": "code",
   "execution_count": null,
   "metadata": {},
   "outputs": [],
   "source": [
    "data4"
   ]
  },
  {
   "cell_type": "code",
   "execution_count": 36,
   "metadata": {},
   "outputs": [],
   "source": [
    "data4.loc[:, 'year'] = data4['date'].dt.year"
   ]
  },
  {
   "cell_type": "code",
   "execution_count": 40,
   "metadata": {},
   "outputs": [
    {
     "data": {
      "text/html": [
       "<div>\n",
       "<style scoped>\n",
       "    .dataframe tbody tr th:only-of-type {\n",
       "        vertical-align: middle;\n",
       "    }\n",
       "\n",
       "    .dataframe tbody tr th {\n",
       "        vertical-align: top;\n",
       "    }\n",
       "\n",
       "    .dataframe thead th {\n",
       "        text-align: right;\n",
       "    }\n",
       "</style>\n",
       "<table border=\"1\" class=\"dataframe\">\n",
       "  <thead>\n",
       "    <tr style=\"text-align: right;\">\n",
       "      <th></th>\n",
       "      <th>date</th>\n",
       "      <th>admin1</th>\n",
       "      <th>admin2</th>\n",
       "      <th>market</th>\n",
       "      <th>latitude</th>\n",
       "      <th>longitude</th>\n",
       "      <th>category</th>\n",
       "      <th>commodity</th>\n",
       "      <th>unit</th>\n",
       "      <th>priceflag</th>\n",
       "      <th>pricetype</th>\n",
       "      <th>currency</th>\n",
       "      <th>price</th>\n",
       "      <th>usdprice</th>\n",
       "      <th>year</th>\n",
       "      <th>month</th>\n",
       "    </tr>\n",
       "  </thead>\n",
       "  <tbody>\n",
       "    <tr>\n",
       "      <th>0</th>\n",
       "      <td>2006-01-15</td>\n",
       "      <td>Arusha</td>\n",
       "      <td>Arusha Urban</td>\n",
       "      <td>Arusha (urban)</td>\n",
       "      <td>-3.366667</td>\n",
       "      <td>36.683333</td>\n",
       "      <td>cereals and tubers</td>\n",
       "      <td>Maize</td>\n",
       "      <td>100 KG</td>\n",
       "      <td>actual</td>\n",
       "      <td>Wholesale</td>\n",
       "      <td>TZS</td>\n",
       "      <td>38464.29</td>\n",
       "      <td>32.7411</td>\n",
       "      <td>2006</td>\n",
       "      <td>1</td>\n",
       "    </tr>\n",
       "    <tr>\n",
       "      <th>1</th>\n",
       "      <td>2006-01-15</td>\n",
       "      <td>Arusha</td>\n",
       "      <td>Arusha Urban</td>\n",
       "      <td>Arusha (urban)</td>\n",
       "      <td>-3.366667</td>\n",
       "      <td>36.683333</td>\n",
       "      <td>cereals and tubers</td>\n",
       "      <td>Rice</td>\n",
       "      <td>100 KG</td>\n",
       "      <td>actual</td>\n",
       "      <td>Wholesale</td>\n",
       "      <td>TZS</td>\n",
       "      <td>63227.27</td>\n",
       "      <td>53.8196</td>\n",
       "      <td>2006</td>\n",
       "      <td>1</td>\n",
       "    </tr>\n",
       "    <tr>\n",
       "      <th>2</th>\n",
       "      <td>2006-01-15</td>\n",
       "      <td>Arusha</td>\n",
       "      <td>Arusha Urban</td>\n",
       "      <td>Arusha (urban)</td>\n",
       "      <td>-3.366667</td>\n",
       "      <td>36.683333</td>\n",
       "      <td>pulses and nuts</td>\n",
       "      <td>Beans</td>\n",
       "      <td>100 KG</td>\n",
       "      <td>actual</td>\n",
       "      <td>Wholesale</td>\n",
       "      <td>TZS</td>\n",
       "      <td>80714.29</td>\n",
       "      <td>68.7047</td>\n",
       "      <td>2006</td>\n",
       "      <td>1</td>\n",
       "    </tr>\n",
       "    <tr>\n",
       "      <th>3</th>\n",
       "      <td>2006-02-15</td>\n",
       "      <td>Arusha</td>\n",
       "      <td>Arusha Urban</td>\n",
       "      <td>Arusha (urban)</td>\n",
       "      <td>-3.366667</td>\n",
       "      <td>36.683333</td>\n",
       "      <td>cereals and tubers</td>\n",
       "      <td>Maize</td>\n",
       "      <td>100 KG</td>\n",
       "      <td>actual</td>\n",
       "      <td>Wholesale</td>\n",
       "      <td>TZS</td>\n",
       "      <td>34833.33</td>\n",
       "      <td>29.5699</td>\n",
       "      <td>2006</td>\n",
       "      <td>2</td>\n",
       "    </tr>\n",
       "    <tr>\n",
       "      <th>4</th>\n",
       "      <td>2006-02-15</td>\n",
       "      <td>Arusha</td>\n",
       "      <td>Arusha Urban</td>\n",
       "      <td>Arusha (urban)</td>\n",
       "      <td>-3.366667</td>\n",
       "      <td>36.683333</td>\n",
       "      <td>cereals and tubers</td>\n",
       "      <td>Rice</td>\n",
       "      <td>100 KG</td>\n",
       "      <td>actual</td>\n",
       "      <td>Wholesale</td>\n",
       "      <td>TZS</td>\n",
       "      <td>72727.27</td>\n",
       "      <td>61.7379</td>\n",
       "      <td>2006</td>\n",
       "      <td>2</td>\n",
       "    </tr>\n",
       "  </tbody>\n",
       "</table>\n",
       "</div>"
      ],
      "text/plain": [
       "        date  admin1        admin2          market  latitude  longitude  \\\n",
       "0 2006-01-15  Arusha  Arusha Urban  Arusha (urban) -3.366667  36.683333   \n",
       "1 2006-01-15  Arusha  Arusha Urban  Arusha (urban) -3.366667  36.683333   \n",
       "2 2006-01-15  Arusha  Arusha Urban  Arusha (urban) -3.366667  36.683333   \n",
       "3 2006-02-15  Arusha  Arusha Urban  Arusha (urban) -3.366667  36.683333   \n",
       "4 2006-02-15  Arusha  Arusha Urban  Arusha (urban) -3.366667  36.683333   \n",
       "\n",
       "             category commodity    unit priceflag  pricetype currency  \\\n",
       "0  cereals and tubers     Maize  100 KG    actual  Wholesale      TZS   \n",
       "1  cereals and tubers      Rice  100 KG    actual  Wholesale      TZS   \n",
       "2     pulses and nuts     Beans  100 KG    actual  Wholesale      TZS   \n",
       "3  cereals and tubers     Maize  100 KG    actual  Wholesale      TZS   \n",
       "4  cereals and tubers      Rice  100 KG    actual  Wholesale      TZS   \n",
       "\n",
       "      price  usdprice  year  month  \n",
       "0  38464.29   32.7411  2006      1  \n",
       "1  63227.27   53.8196  2006      1  \n",
       "2  80714.29   68.7047  2006      1  \n",
       "3  34833.33   29.5699  2006      2  \n",
       "4  72727.27   61.7379  2006      2  "
      ]
     },
     "execution_count": 40,
     "metadata": {},
     "output_type": "execute_result"
    }
   ],
   "source": [
    "data4.head()"
   ]
  },
  {
   "cell_type": "code",
   "execution_count": 39,
   "metadata": {},
   "outputs": [],
   "source": [
    "data4.loc[:, 'month'] = data4['date'].dt.month"
   ]
  },
  {
   "cell_type": "code",
   "execution_count": 41,
   "metadata": {},
   "outputs": [],
   "source": [
    "columns_to_drop = ['date', 'admin1', 'admin2', 'category', 'priceflag', 'pricetype', 'currency', 'usdprice']\n",
    "\n",
    "data4 = data4.drop(columns_to_drop, axis=1)"
   ]
  },
  {
   "cell_type": "code",
   "execution_count": 42,
   "metadata": {},
   "outputs": [],
   "source": [
    "data4.to_csv('needed_food_data.csv', index=False)"
   ]
  }
 ],
 "metadata": {
  "kernelspec": {
   "display_name": "base",
   "language": "python",
   "name": "python3"
  },
  "language_info": {
   "codemirror_mode": {
    "name": "ipython",
    "version": 3
   },
   "file_extension": ".py",
   "mimetype": "text/x-python",
   "name": "python",
   "nbconvert_exporter": "python",
   "pygments_lexer": "ipython3",
   "version": "3.11.3"
  },
  "orig_nbformat": 4
 },
 "nbformat": 4,
 "nbformat_minor": 2
}
