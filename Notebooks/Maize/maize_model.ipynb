{
 "cells": [
  {
   "cell_type": "code",
   "execution_count": 1,
   "metadata": {},
   "outputs": [],
   "source": [
    "import pandas as pd\n",
    "import matplotlib.pyplot as plt\n",
    "import seaborn as sns\n",
    "import warnings\n",
    "\n",
    "import lightgbm as lgb\n",
    "from tqdm import tqdm_notebook as tqdm\n",
    "import pickle\n",
    "from sklearn.model_selection import GridSearchCV\n",
    "from sklearn.model_selection import train_test_split\n",
    "\n",
    "from sklearn.linear_model import LinearRegression\n",
    "from sklearn.tree import DecisionTreeRegressor\n",
    "from sklearn.ensemble import RandomForestRegressor, GradientBoostingRegressor\n",
    "from sklearn.neighbors import KNeighborsRegressor\n",
    "from xgboost import XGBRegressor\n",
    "from catboost import CatBoostRegressor\n",
    "from sklearn.metrics import mean_squared_error, mean_absolute_error, r2_score\n",
    "warnings.filterwarnings('ignore')"
   ]
  },
  {
   "cell_type": "code",
   "execution_count": 3,
   "metadata": {},
   "outputs": [],
   "source": [
    "data = pd.read_csv('../../Data/maize.csv')"
   ]
  },
  {
   "cell_type": "code",
   "execution_count": 4,
   "metadata": {},
   "outputs": [],
   "source": [
    "target = data['price']\n",
    "features = data.drop('price', axis=1)"
   ]
  },
  {
   "cell_type": "code",
   "execution_count": 5,
   "metadata": {},
   "outputs": [],
   "source": [
    "feature_train, feature_test, target_train, target_test = train_test_split(features, target, test_size=0.25, random_state=100)"
   ]
  },
  {
   "cell_type": "code",
   "execution_count": 7,
   "metadata": {},
   "outputs": [
    {
     "name": "stdout",
     "output_type": "stream",
     "text": [
      "<class 'pandas.core.frame.DataFrame'>\n",
      "Index: 1535 entries, 1279 to 1544\n",
      "Data columns (total 24 columns):\n",
      " #   Column                            Non-Null Count  Dtype  \n",
      "---  ------                            --------------  -----  \n",
      " 0   year                              1535 non-null   float64\n",
      " 1   month                             1535 non-null   int64  \n",
      " 2   years_since_start                 1535 non-null   int64  \n",
      " 3   past_three_months_mean_price      1535 non-null   float64\n",
      " 4   past_six_months_mean_price        1535 non-null   float64\n",
      " 5   past_twelve_months_mean_price     1535 non-null   float64\n",
      " 6   yearly_average_price              1535 non-null   float64\n",
      " 7   monthly_average_price             1535 non-null   float64\n",
      " 8   market_average_price              1535 non-null   float64\n",
      " 9   commodity_yearly_average_price    1535 non-null   float64\n",
      " 10  commodity_monthly_average_price   1535 non-null   float64\n",
      " 11  market_Arusha (urban)             1535 non-null   int64  \n",
      " 12  market_Babati                     1535 non-null   int64  \n",
      " 13  market_Bukoba                     1535 non-null   int64  \n",
      " 14  market_Dar es Salaam - Ilala      1535 non-null   int64  \n",
      " 15  market_Dar es Salaam - Kinondoni  1535 non-null   int64  \n",
      " 16  market_Dodoma (Kibaigwa)          1535 non-null   int64  \n",
      " 17  market_Dodoma (Majengo)           1535 non-null   int64  \n",
      " 18  market_Morogoro                   1535 non-null   int64  \n",
      " 19  market_Mpanda                     1535 non-null   int64  \n",
      " 20  market_Mtwara DC                  1535 non-null   int64  \n",
      " 21  market_Musoma                     1535 non-null   int64  \n",
      " 22  market_Tabora                     1535 non-null   int64  \n",
      " 23  market_Tanga / Mgandini           1535 non-null   int64  \n",
      "dtypes: float64(9), int64(15)\n",
      "memory usage: 299.8 KB\n"
     ]
    }
   ],
   "source": [
    "feature_train.info()"
   ]
  },
  {
   "cell_type": "code",
   "execution_count": 10,
   "metadata": {},
   "outputs": [
    {
     "data": {
      "application/vnd.jupyter.widget-view+json": {
       "model_id": "32f562ca65dc4697a99e5210c1dc8dd2",
       "version_major": 2,
       "version_minor": 0
      },
      "text/plain": [
       "Tuning Models:   0%|          | 0/1 [00:00<?, ?it/s]"
      ]
     },
     "metadata": {},
     "output_type": "display_data"
    },
    {
     "data": {
      "application/vnd.jupyter.widget-view+json": {
       "model_id": "f855103354ec425dabe1e2cfda3ac584",
       "version_major": 2,
       "version_minor": 0
      },
      "text/plain": [
       "Tuning Model: Decision Tree:   0%|          | 0/1 [00:00<?, ?it/s]"
      ]
     },
     "metadata": {},
     "output_type": "display_data"
    }
   ],
   "source": [
    "models = {\n",
    "    # 'Linear Regression' : LinearRegression(),\n",
    "    'Decision Tree' : DecisionTreeRegressor(max_depth=1000, random_state=42),\n",
    "    # 'Random Forest' : RandomForestRegressor(max_depth=1000, n_estimators=1000, random_state=42),\n",
    "    # 'Gradient Boosting' : GradientBoostingRegressor(n_estimators=1000, max_depth=1000),\n",
    "    # 'KNN Regressor' : KNeighborsRegressor(n_neighbors=5),\n",
    "    # 'XGBoost Regressor': XGBRegressor(n_estimators=1000, max_depth=1000),\n",
    "    # 'CatBoost Regressor': CatBoostRegressor(n_estimators=1000, max_depth=16, logging_level='Silent'),\n",
    "    # 'LightGBM Regressor': lgb.LGBMRegressor( \n",
    "    #     objective='regression', \n",
    "    #     metric='mse', \n",
    "    #     feature_fraction=0.8,\n",
    "    #     bagging_fraction=0.8,\n",
    "    #     bagging_freq=5,\n",
    "    #     verbose=0,\n",
    "    #     n_estimators=100,\n",
    "    #     max_depth=1000,\n",
    "    #     verbosity=-1,\n",
    "    #     silent=True\n",
    "    # )\n",
    "}\n",
    "\n",
    "param_grids = {\n",
    "    'Linear Regression': {\n",
    "        'fit_intercept': [True, False],\n",
    "        'copy_X': [True, False],\n",
    "        'n_jobs' : [10, 20, 60, 80, 100],\n",
    "        'positive' : [True, False]\n",
    "    },\n",
    "    'Decision Tree': {\n",
    "        'min_samples_split': [2, 5, 7, 11, 50, 80, 100],\n",
    "        'min_samples_leaf': [3, 7, 12, 30],\n",
    "    },\n",
    "    'Random Forest': {\n",
    "        'min_samples_split': [2, 5, 7, 11, 50, 80, 100],\n",
    "        'min_samples_leaf': [3, 7, 12, 30],\n",
    "        'bootstrap': [True, False],\n",
    "    },\n",
    "    'Gradient Boosting': {\n",
    "        'learning_rate': [0.01, 0.05, 0.1, 0.11, 0.15, 0.2],\n",
    "        'min_samples_split': [2, 5, 7, 11, 50, 80, 100],\n",
    "        'min_samples_leaf': [3, 7, 12, 30],\n",
    "    },\n",
    "    'KNN Regressor': {\n",
    "        'n_neighbors': [1, 3, 5, 10, 20],\n",
    "        'weights': ['uniform', 'distance'],\n",
    "        'p': [1, 2],\n",
    "    },\n",
    "    'XGBoost Regressor': {\n",
    "        'learning_rate': [0.01, 0.05, 0.1, 0.11, 0.15, 0.2],\n",
    "    },\n",
    "    'CatBoost Regressor': {\n",
    "        'learning_rate': [0.01, 0.05, 0.1, 0.11, 0.15, 0.2],\n",
    "    },\n",
    "    'LightGBM Regressor': {\n",
    "        'boosting_type': ['gbdt', 'goss', 'rf', 'dart'],\n",
    "        'learning_rate': [0.01, 0.05, 0.1, 0.11, 0.15, 0.2],\n",
    "        'num_leaves': [3, 7, 12, 30],\n",
    "    },\n",
    "}\n",
    "\n",
    "\n",
    "best_models = {}\n",
    "\n",
    "tuneBar = tqdm(models.items(), desc=\"Tuning Models\")\n",
    "\n",
    "for name, model in tuneBar:\n",
    "    if name in param_grids:\n",
    "        param_grid = param_grids[name]\n",
    "        with tqdm(total=1, desc=f\"Tuning Model: {name}\") as insideBar:\n",
    "            grid_search = GridSearchCV(estimator=model, param_grid=param_grid,\n",
    "                                            scoring='neg_mean_squared_error', cv=5, n_jobs=-1)\n",
    "            grid_search.fit(feature_train, target_train)\n",
    "            insideBar.update(1)\n",
    "        best_model = grid_search.best_estimator_\n",
    "        best_models[name] = best_model\n",
    "    else:\n",
    "        best_models[name] = model"
   ]
  },
  {
   "cell_type": "code",
   "execution_count": 11,
   "metadata": {},
   "outputs": [
    {
     "data": {
      "application/vnd.jupyter.widget-view+json": {
       "model_id": "d305bc5c4250432590db467f83c75c05",
       "version_major": 2,
       "version_minor": 0
      },
      "text/plain": [
       "Training Models:   0%|          | 0/1 [00:00<?, ?it/s]"
      ]
     },
     "metadata": {},
     "output_type": "display_data"
    },
    {
     "data": {
      "application/vnd.jupyter.widget-view+json": {
       "model_id": "061defb2b6604ce4a643acb25d698c69",
       "version_major": 2,
       "version_minor": 0
      },
      "text/plain": [
       "Training Model: Decision Tree:   0%|          | 0/1 [00:00<?, ?it/s]"
      ]
     },
     "metadata": {},
     "output_type": "display_data"
    },
    {
     "data": {
      "image/png": "[encoded data removed]",
      "text/plain": [
       "<Figure size 640x480 with 1 Axes>"
      ]
     },
     "metadata": {},
     "output_type": "display_data"
    },
    {
     "name": "stdout",
     "output_type": "stream",
     "text": [
      "\n"
     ]
    },
    {
     "data": {
      "text/html": [
       "<div>\n",
       "<style scoped>\n",
       "    .dataframe tbody tr th:only-of-type {\n",
       "        vertical-align: middle;\n",
       "    }\n",
       "\n",
       "    .dataframe tbody tr th {\n",
       "        vertical-align: top;\n",
       "    }\n",
       "\n",
       "    .dataframe thead th {\n",
       "        text-align: right;\n",
       "    }\n",
       "</style>\n",
       "<table border=\"1\" class=\"dataframe\">\n",
       "  <thead>\n",
       "    <tr style=\"text-align: right;\">\n",
       "      <th></th>\n",
       "      <th>Model Name</th>\n",
       "      <th>MAE</th>\n",
       "      <th>MSE</th>\n",
       "      <th>RMSE</th>\n",
       "      <th>R^2</th>\n",
       "    </tr>\n",
       "  </thead>\n",
       "  <tbody>\n",
       "    <tr>\n",
       "      <th>0</th>\n",
       "      <td>Decision Tree</td>\n",
       "      <td>3764.095638</td>\n",
       "      <td>2.849151e+07</td>\n",
       "      <td>5337.743767</td>\n",
       "      <td>93.9133%</td>\n",
       "    </tr>\n",
       "  </tbody>\n",
       "</table>\n",
       "</div>"
      ],
      "text/plain": [
       "      Model Name          MAE           MSE         RMSE       R^2\n",
       "0  Decision Tree  3764.095638  2.849151e+07  5337.743767  93.9133%"
      ]
     },
     "execution_count": 11,
     "metadata": {},
     "output_type": "execute_result"
    }
   ],
   "source": [
    "results = {\n",
    "    'Model Name': [],\n",
    "    'MAE' : [],\n",
    "    'MSE' : [],\n",
    "    'RMSE' : [],\n",
    "    'R^2' : []\n",
    "}\n",
    "\n",
    "\n",
    "trainBar = tqdm(best_models.items(), desc=\"Training Models\")\n",
    "\n",
    "for name, model in trainBar:\n",
    "    with tqdm(total=1, desc=f\"Training Model: {name}\") as insideBar:\n",
    "        model.fit(feature_train, target_train)\n",
    "        pickle.dump(model, open(f'../Models/Maize/Maize_model_{name}.pkl', 'wb'))\n",
    "        model = pickle.load(open(f'../Models/Maize/Maize_model_{name}.pkl', 'rb'))\n",
    "        predictions = model.predict(feature_test)\n",
    "        insideBar.update(1)\n",
    "\n",
    "    mae = mean_absolute_error(target_test, predictions)\n",
    "    mse = mean_squared_error(target_test, predictions)\n",
    "    rmse = mean_squared_error(target_test, predictions, squared=False)\n",
    "    r2 = r2_score(target_test, predictions)\n",
    "\n",
    "    results['Model Name'].append(name)\n",
    "    results['MAE'].append(mae)\n",
    "    results['MSE'].append(mse)\n",
    "    results['RMSE'].append(rmse)\n",
    "    results['R^2'].append(f'{r2 * 100:.4f}%')\n",
    "\n",
    "    ax1 = sns.distplot(target_test, hist=False, color=\"r\", label=\"Actual Values\")\n",
    "    sns.distplot(predictions, hist=False, color=\"b\", label=\"Predicted Values\" , ax=ax1)\n",
    "    plt.title(f'Actual vs Fitted Values for Beans price with {name}')\n",
    "    plt.legend()\n",
    "    plt.show()\n",
    "    print()\n",
    "    plt.close()\n",
    "\n",
    "results = pd.DataFrame(results)\n",
    "results"
   ]
  }
 ],
 "metadata": {
  "kernelspec": {
   "display_name": "base",
   "language": "python",
   "name": "python3"
  },
  "language_info": {
   "codemirror_mode": {
    "name": "ipython",
    "version": 3
   },
   "file_extension": ".py",
   "mimetype": "text/x-python",
   "name": "python",
   "nbconvert_exporter": "python",
   "pygments_lexer": "ipython3",
   "version": "3.11.3"
  },
  "orig_nbformat": 4
 },
 "nbformat": 4,
 "nbformat_minor": 2
}
