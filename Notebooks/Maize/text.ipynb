{
 "cells": [
  {
   "cell_type": "code",
   "execution_count": 80,
   "metadata": {},
   "outputs": [],
   "source": [
    "import pandas as pd\n",
    "import numpy as np\n",
    "import warnings\n",
    "import pickle as pk\n",
    "warnings.filterwarnings('ignore')"
   ]
  },
  {
   "cell_type": "code",
   "execution_count": 64,
   "metadata": {},
   "outputs": [],
   "source": [
    "Maize_data = pd.read_csv('../../Data/maize.csv')"
   ]
  },
  {
   "cell_type": "code",
   "execution_count": 65,
   "metadata": {},
   "outputs": [],
   "source": [
    "selected_crop, selected_market, selected_month, selected_year = 'Maize', 1, 4, 2023"
   ]
  },
  {
   "cell_type": "code",
   "execution_count": 72,
   "metadata": {},
   "outputs": [],
   "source": [
    "column_order = [\n",
    "    'market',\n",
    "    'year',\n",
    "    'month',\n",
    "    'years_since_start',\n",
    "    'past_1_months_mean_price',\n",
    "    'past_2_months_mean_price',\n",
    "    'past_3_months_mean_price',\n",
    "    'past_4_months_mean_price',\n",
    "    'past_5_months_mean_price',\n",
    "    'past_6_months_mean_price',\n",
    "    'past_7_months_mean_price',\n",
    "    'past_8_months_mean_price',\n",
    "    'past_9_months_mean_price',\n",
    "    'past_10_months_mean_price',\n",
    "    'past_11_months_mean_price',\n",
    "    'past_1_years_mean_price',\n",
    "    'past_2_years_mean_price',\n",
    "    'past_3_years_mean_price',\n",
    "    'past_4_years_mean_price',\n",
    "    'past_5_years_mean_price',\n",
    "    'past_6_years_mean_price',\n",
    "    'past_7_years_mean_price',\n",
    "    'past_8_years_mean_price',\n",
    "    'past_9_years_mean_price',\n",
    "    'past_10_years_mean_price',\n",
    "    'past_11_years_mean_price',\n",
    "    'past_12_years_mean_price',\n",
    "    'past_13_years_mean_price',\n",
    "    'past_14_years_mean_price',\n",
    "    'past_15_years_mean_price',\n",
    "    'past_16_years_mean_price',\n",
    "    'past_17_years_mean_price',\n",
    "    'yearly_average_price',\n",
    "    'monthly_average_price',\n",
    "    'market_average_price',\n",
    "    'commodity_yearly_average_price',\n",
    "    'commodity_monthly_average_price'\n",
    "]"
   ]
  },
  {
   "cell_type": "code",
   "execution_count": 67,
   "metadata": {},
   "outputs": [],
   "source": [
    "inputDict = {}"
   ]
  },
  {
   "cell_type": "code",
   "execution_count": 68,
   "metadata": {},
   "outputs": [],
   "source": [
    "filtered_data = Maize_data[(Maize_data['market'] == 3) & (Maize_data['year'] == 2022)]"
   ]
  },
  {
   "cell_type": "code",
   "execution_count": 92,
   "metadata": {},
   "outputs": [],
   "source": [
    "def iii(inputDict):\n",
    "    inputDict['market'] = [selected_market]\n",
    "\n",
    "    inputDict['year'] = [selected_year]\n",
    "\n",
    "    inputDict['month'] = [selected_month]\n",
    "\n",
    "    inputDict['years_since_start'] = int(selected_year) - 2006\n",
    "\n",
    "    if selected_crop == 'Maize':\n",
    "        most_recent_year = Maize_data['year'].max() - 1\n",
    "        filtered_data = Maize_data[(Maize_data['market'] == selected_market) &\n",
    "                                    (Maize_data['year'] == most_recent_year)]\n",
    "        \n",
    "        inputDict['yearly_average_price'] = filtered_data['yearly_average_price'].mode()\n",
    "\n",
    "        if int(selected_month) in filtered_data['month'].unique():\n",
    "            inputDict['monthly_average_price'] = filtered_data.loc[filtered_data['month'] == int(selected_month)]['market_average_price'].reset_index(drop=True)\n",
    "        else:\n",
    "            inputDict['monthly_average_price'] = filtered_data['monthly_average_price'].mean()\n",
    "        \n",
    "        inputDict['market_average_price'] = filtered_data['market_average_price'].mode()\n",
    "\n",
    "        inputDict['commodity_yearly_average_price'] = filtered_data['commodity_yearly_average_price'].mode()\n",
    "\n",
    "        if int(selected_month) in filtered_data['month'].unique():\n",
    "            inputDict['commodity_monthly_average_price'] = filtered_data.loc[filtered_data['month'] == int(selected_month)]['commodity_monthly_average_price'].reset_index(drop=True)\n",
    "        else:\n",
    "            inputDict['commodity_monthly_average_price'] = filtered_data['commodity_monthly_average_price'].mean()\n",
    "        \n",
    "        filtered_data = filtered_data.drop(['market', 'year', 'month', 'years_since_start', 'yearly_average_price', 'monthly_average_price', 'market_average_price', 'commodity_yearly_average_price', 'commodity_monthly_average_price'], axis=1)\n",
    "        \n",
    "        for col in filtered_data.columns:\n",
    "            inputDict[col] = filtered_data[col].mean()\n",
    "\n",
    "    return pd.DataFrame(inputDict, columns=column_order)"
   ]
  },
  {
   "cell_type": "code",
   "execution_count": 82,
   "metadata": {},
   "outputs": [],
   "source": [
    "maize_model = pk.load(open('../../Models/Maize/Maize_model_XGBoost Regressor.pkl', 'rb'))\n",
    "beans_model = pk.load(open('../../Models/Beans/Beans_model_XGBoost Regressor.pkl', 'rb'))\n",
    "rice_model = pk.load(open('../../Models/Rice/Rice_model_XGBoost Regressor.pkl', 'rb'))"
   ]
  },
  {
   "cell_type": "code",
   "execution_count": 95,
   "metadata": {},
   "outputs": [],
   "source": [
    "x = maize_model.predict(iii(inputDict))[0]"
   ]
  },
  {
   "cell_type": "code",
   "execution_count": 96,
   "metadata": {},
   "outputs": [
    {
     "data": {
      "text/plain": [
       "84534.016"
      ]
     },
     "execution_count": 96,
     "metadata": {},
     "output_type": "execute_result"
    }
   ],
   "source": [
    "x"
   ]
  }
 ],
 "metadata": {
  "kernelspec": {
   "display_name": "base",
   "language": "python",
   "name": "python3"
  },
  "language_info": {
   "codemirror_mode": {
    "name": "ipython",
    "version": 3
   },
   "file_extension": ".py",
   "mimetype": "text/x-python",
   "name": "python",
   "nbconvert_exporter": "python",
   "pygments_lexer": "ipython3",
   "version": "3.11.3"
  },
  "orig_nbformat": 4
 },
 "nbformat": 4,
 "nbformat_minor": 2
}
